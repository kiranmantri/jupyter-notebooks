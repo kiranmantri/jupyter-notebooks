{
 "cells": [
  {
   "cell_type": "markdown",
   "metadata": {},
   "source": [
    "## Equations for kinematic movements\n",
    "We can model the gestures movements using regular kinematic (Newton's) equations.  \n",
    "\n",
    "$\n",
    "\\left[\n",
    "   \\begin{array}{l}\n",
    "    p = p_{o} + v_{o}*t + \\dfrac{a t^2}{2}\n",
    "    \\\\\n",
    "    v = v_{o} + at\n",
    "    \\end{array}\n",
    "\\right.\n",
    "$  \n",
    "\n",
    "#### where:\n",
    "- t is time ;\n",
    "- p is current position ;  \n",
    "- $p_o$ is the initial position (at time $t_o$)\n",
    "- v is the velocity ;  \n",
    "- $v_o$ is the initial velocity ;\n",
    "- a is the acceleration\n"
   ]
  },
  {
   "cell_type": "markdown",
   "metadata": {},
   "source": [
    "We assume the movement as a markovian process, so the current state depends only on the previous state.\n",
    "\n",
    "Position information should be measured from the samples and velocity can be computed once we define the time step information.\n",
    "\n",
    "$\n",
    "\\left\\{\n",
    "   \\begin{array}{l}\n",
    "        p_t = p_{t-1} + v_{t-1}*\\Delta t + \\dfrac{a_{t-1}*\\Delta t^2}{2}\n",
    "        \\\\\n",
    "        v_t = v_{t-1} + a_{t-1}* \\Delta t \n",
    "    \\end{array}\n",
    "\\right.\n",
    "$  \n",
    "\n",
    "where the subscripts $t$ and $t-1$ indicates respetively the current and previous states ;\n",
    "\n",
    "\n",
    "As \"a\" (acceleration) is the second derivative of x (position), we would need two consecutive time steps to compute acceleration.\n",
    "In our case, be can assume there is no accelaration as there is no external forces acting on the system and the gestures moves with constant velocity. Any variations on the speed will be accounted by the additive noise factors.\n",
    "\n",
    "This simplifies our equations to:\n",
    "\n",
    "$\n",
    "\\left\\{\n",
    "   \\begin{array}{l}\n",
    "        x_t = x_{t-1} + v_{t-1}*\\Delta t \n",
    "        \\\\\n",
    "        v = v_{t-1} = \\dfrac{\\partial x}{\\partial t} = \\dot x\n",
    "     \\end{array}\n",
    "\\right.\n",
    "$\n",
    "\n",
    "also,\n",
    "\n",
    "$  \n",
    "\\left\\{\n",
    "v = \\dfrac{\\partial x}{\\partial t} = \\dot x\n",
    "\\right.\n",
    "$\n",
    "\n",
    "       \n",
    "        "
   ]
  },
  {
   "cell_type": "markdown",
   "metadata": {},
   "source": [
    "## State Variables\n",
    "\n",
    "Our state can be fully defined only by two variables: position (x) and velocity (v)\n",
    "\n",
    "$\n",
    "x =  \n",
    " \\begin{vmatrix}\n",
    "      position \\\\\n",
    "      velocity\\\\\n",
    " \\end{vmatrix} \n",
    " =\n",
    " \\begin{vmatrix}\n",
    "    x \\\\\n",
    "    v\n",
    " \\end{vmatrix} \n",
    " =\n",
    " \\begin{vmatrix}\n",
    "    x \\\\\n",
    "    \\dot{x}\n",
    " \\end{vmatrix}\n",
    "$\n"
   ]
  },
  {
   "cell_type": "markdown",
   "metadata": {},
   "source": [
    "##  State Space Model  \n",
    "\n",
    "The movement (our dynamic process) can be written in the matricial form:\n",
    "\n",
    "\\begin{equation}\n",
    "\\left[\n",
    "    \\begin{array}{l}\n",
    "        x\\\\\n",
    "        \\dot x\n",
    "    \\end{array}    \n",
    "\\right]\n",
    "=\n",
    "\\left[\n",
    "    \\begin{array}{ll}\n",
    "        1 & \\Delta t \\\\\n",
    "        0 & 1\n",
    "    \\end{array}    \n",
    "\\right]\n",
    "\\left[\n",
    "    \\begin{array}{l}\n",
    "        x_{t-1}\\\\\n",
    "        \\\\\n",
    "        \\dot x_{t-1}\n",
    "    \\end{array}    \n",
    "\\right]\n",
    "+\n",
    "\\left[\n",
    "    \\begin{array}{l}\n",
    "        \\dfrac{{\\Delta t}^2}{2} \\\\\n",
    "        \\Delta t\n",
    "    \\end{array}    \n",
    "\\right]\n",
    " u\n",
    "\\end{equation}\n",
    "\n",
    "which is:\n",
    "\n",
    "$ x_{t} = A x_{t-1}  + Bu $\n",
    "\n",
    "\n",
    "## Observation model  \n",
    "\n",
    "We can also write the observation model in a matricial form\n",
    "\n",
    "$\n",
    "\\left[\n",
    "    \\begin{array}{l}\n",
    "        Z_x\n",
    "    \\end{array}    \n",
    "\\right]\n",
    "=\n",
    "\\left[\n",
    "    \\begin{array}{ll}\n",
    "        1 & 0\n",
    "    \\end{array}    \n",
    "\\right]\n",
    "\\left[\n",
    "    \\begin{array}{ll}\n",
    "        x_{t}\\\\\n",
    "        \\dot x_{t}\n",
    "    \\end{array}    \n",
    "\\right]\n",
    "+\n",
    "w\n",
    "$\n",
    "\n",
    "which is:\n",
    "\n",
    "$\n",
    "z_{t} = D x_{t}  + w\n",
    "$\n",
    "#### where\n",
    "- $z_t$ is the observed state\n",
    "- $w$ is the measurement error: white gaussian $~N(0,Q)$\n",
    "\n",
    "It is easy to see that the observation model depends only on the position (effectively measured) and we cannot measure the velocity independently (we don't have speed sensors attached to the hands)."
   ]
  },
  {
   "cell_type": "code",
   "execution_count": 1,
   "metadata": {
    "collapsed": true
   },
   "outputs": [],
   "source": [
    "import cv2\n",
    "kf = cv2.KalmanFilter(dynamParams=6, measureParams=3, controlParams=0, type=cv2.CV_64FC1)"
   ]
  },
  {
   "cell_type": "markdown",
   "metadata": {},
   "source": [
    "## Parse the MKR file and get the dataset (full and center of mass):"
   ]
  },
  {
   "cell_type": "code",
   "execution_count": 2,
   "metadata": {
    "collapsed": true
   },
   "outputs": [],
   "source": [
    "#################################\n",
    "# Intitialization and dependencies\n",
    "import pandas as pd\n",
    "import numpy as np\n",
    "import sympy as sp\n",
    "import cv2\n",
    "from MarkerFileParser import MarkerFileParser\n",
    "from sympy import init_printing\n",
    "init_printing() \n",
    "%matplotlib inline\n",
    "#################################"
   ]
  },
  {
   "cell_type": "code",
   "execution_count": 3,
   "metadata": {
    "collapsed": true
   },
   "outputs": [],
   "source": [
    "mkr = MarkerFileParser('gestures_clean/17-alex-RH/FlipPage1_243260992.mkr')\n",
    "d = mkr.getDataSet()"
   ]
  },
  {
   "cell_type": "code",
   "execution_count": 4,
   "metadata": {
    "collapsed": false
   },
   "outputs": [
    {
     "data": {
      "text/html": [
       "<div>\n",
       "<table border=\"1\" class=\"dataframe\">\n",
       "  <thead>\n",
       "    <tr style=\"text-align: right;\">\n",
       "      <th></th>\n",
       "      <th>x</th>\n",
       "      <th>y</th>\n",
       "      <th>z</th>\n",
       "      <th>v</th>\n",
       "    </tr>\n",
       "    <tr>\n",
       "      <th>frames</th>\n",
       "      <th></th>\n",
       "      <th></th>\n",
       "      <th></th>\n",
       "      <th></th>\n",
       "    </tr>\n",
       "  </thead>\n",
       "  <tbody>\n",
       "    <tr>\n",
       "      <th>0</th>\n",
       "      <td>-196.575596</td>\n",
       "      <td>69.243634</td>\n",
       "      <td>47.954311</td>\n",
       "      <td>0.9375</td>\n",
       "    </tr>\n",
       "    <tr>\n",
       "      <th>1</th>\n",
       "      <td>-196.591480</td>\n",
       "      <td>69.267866</td>\n",
       "      <td>47.950594</td>\n",
       "      <td>0.9375</td>\n",
       "    </tr>\n",
       "    <tr>\n",
       "      <th>2</th>\n",
       "      <td>-196.611049</td>\n",
       "      <td>69.295178</td>\n",
       "      <td>47.960206</td>\n",
       "      <td>0.9375</td>\n",
       "    </tr>\n",
       "    <tr>\n",
       "      <th>3</th>\n",
       "      <td>-196.595546</td>\n",
       "      <td>69.277409</td>\n",
       "      <td>47.943891</td>\n",
       "      <td>0.9375</td>\n",
       "    </tr>\n",
       "    <tr>\n",
       "      <th>4</th>\n",
       "      <td>-196.615379</td>\n",
       "      <td>69.292064</td>\n",
       "      <td>47.923321</td>\n",
       "      <td>0.9375</td>\n",
       "    </tr>\n",
       "  </tbody>\n",
       "</table>\n",
       "</div>"
      ],
      "text/plain": [
       "                 x          y          z       v\n",
       "frames                                          \n",
       "0      -196.575596  69.243634  47.954311  0.9375\n",
       "1      -196.591480  69.267866  47.950594  0.9375\n",
       "2      -196.611049  69.295178  47.960206  0.9375\n",
       "3      -196.595546  69.277409  47.943891  0.9375\n",
       "4      -196.615379  69.292064  47.923321  0.9375"
      ]
     },
     "execution_count": 4,
     "metadata": {},
     "output_type": "execute_result"
    }
   ],
   "source": [
    "c = mkr.getCenterofMass('left')\n",
    "c.head()"
   ]
  },
  {
   "cell_type": "code",
   "execution_count": 13,
   "metadata": {
    "collapsed": false
   },
   "outputs": [
    {
     "name": "stdout",
     "output_type": "stream",
     "text": [
      "Delta T: 0.00833\n",
      "Transition:\n",
      "[[ 1.       0.       0.       0.00833  0.       0.     ]\n",
      " [ 0.       1.       0.       0.       0.00833  0.     ]\n",
      " [ 0.       0.       1.       0.       0.       0.00833]\n",
      " [ 0.       0.       0.       1.       0.       0.     ]\n",
      " [ 0.       0.       0.       0.       1.       0.     ]\n",
      " [ 0.       0.       0.       0.       0.       1.     ]]\n",
      "Measurement:\n",
      "[[ 1.  0.  0.  0.  0.  0.]\n",
      " [ 0.  1.  0.  0.  0.  0.]\n",
      " [ 0.  0.  1.  0.  0.  0.]]\n",
      "Control:\n",
      "None\n",
      "Process Noise Cov:\n",
      "[[  1.20370486e-09   0.00000000e+00   0.00000000e+00   2.89004769e-07\n",
      "    0.00000000e+00   0.00000000e+00]\n",
      " [  0.00000000e+00   1.20370486e-09   0.00000000e+00   0.00000000e+00\n",
      "    2.89004769e-07   0.00000000e+00]\n",
      " [  0.00000000e+00   0.00000000e+00   1.20370486e-09   0.00000000e+00\n",
      "    0.00000000e+00   2.89004769e-07]\n",
      " [  2.89004769e-07   0.00000000e+00   0.00000000e+00   6.93889000e-05\n",
      "    0.00000000e+00   0.00000000e+00]\n",
      " [  0.00000000e+00   2.89004769e-07   0.00000000e+00   0.00000000e+00\n",
      "    6.93889000e-05   0.00000000e+00]\n",
      " [  0.00000000e+00   0.00000000e+00   2.89004769e-07   0.00000000e+00\n",
      "    0.00000000e+00   6.93889000e-05]]\n",
      "Measurement Noise Cov:\n",
      "[[  1.00000000e-06   0.00000000e+00   0.00000000e+00]\n",
      " [  0.00000000e+00   1.00000000e-06   0.00000000e+00]\n",
      " [  0.00000000e+00   0.00000000e+00   1.00000000e-06]]\n",
      "Error Cov Pre\n",
      "[[  4.50622084e-07   0.00000000e+00   0.00000000e+00   1.00327997e-05\n",
      "    0.00000000e+00   0.00000000e+00]\n",
      " [  0.00000000e+00   4.50622084e-07   0.00000000e+00   0.00000000e+00\n",
      "    1.00327997e-05   0.00000000e+00]\n",
      " [  0.00000000e+00   0.00000000e+00   4.50622084e-07   0.00000000e+00\n",
      "    0.00000000e+00   1.00327997e-05]\n",
      " [  1.00327997e-05   0.00000000e+00   0.00000000e+00   4.08835473e-04\n",
      "    0.00000000e+00   0.00000000e+00]\n",
      " [  0.00000000e+00   1.00327997e-05   0.00000000e+00   0.00000000e+00\n",
      "    4.08835473e-04   0.00000000e+00]\n",
      " [  0.00000000e+00   0.00000000e+00   1.00327997e-05   0.00000000e+00\n",
      "    0.00000000e+00   4.08835473e-04]]\n",
      "Error Cov Post\n",
      "[[  3.10640579e-07   0.00000000e+00   0.00000000e+00   6.91620502e-06\n",
      "    0.00000000e+00   0.00000000e+00]\n",
      " [  0.00000000e+00   3.10640579e-07   0.00000000e+00   0.00000000e+00\n",
      "    6.91620502e-06   0.00000000e+00]\n",
      " [  0.00000000e+00   0.00000000e+00   3.10640579e-07   0.00000000e+00\n",
      "    0.00000000e+00   6.91620502e-06]\n",
      " [  6.91620502e-06   0.00000000e+00   0.00000000e+00   3.39446573e-04\n",
      "    0.00000000e+00   0.00000000e+00]\n",
      " [  0.00000000e+00   6.91620502e-06   0.00000000e+00   0.00000000e+00\n",
      "    3.39446573e-04   0.00000000e+00]\n",
      " [  0.00000000e+00   0.00000000e+00   6.91620502e-06   0.00000000e+00\n",
      "    0.00000000e+00   3.39446573e-04]]\n"
     ]
    }
   ],
   "source": [
    "dt = mkr.getDeltaT()\n",
    "#dt = 0.0001\n",
    "\n",
    "kf.transitionMatrix = np.array([[1, 0, 0, dt, 0, 0],\n",
    "                                [0, 1, 0, 0, dt, 0],\n",
    "                                [0, 0, 1, 0, 0, dt],\n",
    "                                [0, 0, 0, 1, 0, 0],\n",
    "                                [0, 0, 0, 0, 1, 0],\n",
    "                                [0, 0, 0, 0, 0, 1]\n",
    "                               ],dtype=\"float64\")\n",
    "\n",
    "\n",
    "\n",
    "kf.processNoiseCov = np.array([[(dt**4)/4, 0, 0, (dt**3)/2, 0, 0],\n",
    "                              [0, (dt**4)/4 , 0, 0, (dt**3)/2, 0],\n",
    "                              [0, 0, (dt**4)/4, 0, 0, (dt**3)/2],\n",
    "                              [(dt**3)/2, 0, 0, (dt**2), 0, 0],\n",
    "                              [0, (dt**3)/2, 0, 0, (dt**2), 0],\n",
    "                              [0, 0, (dt**3)/2, 0, 0, (dt**2)]\n",
    "                     ], dtype=\"float64\")\n",
    "\n",
    "\n",
    "#kf.processNoiseCov = np.array([[0, 0, 0, 0, 0, 0],\n",
    "#                               [0, 0, 0, 0, 0, 0],\n",
    "#                               [0, 0, 0, 0, 0, 0],\n",
    "#                               [0, 0, 0, 1, 0, 0],\n",
    "#                               [0, 0, 0, 0, 1, 0],\n",
    "#                               [0, 0, 0, 0, 0, 1]\n",
    "#                              ],dtype=\"float64\")\n",
    "\n",
    "\n",
    "\n",
    "kf.measurementMatrix = np.array([[1, 0, 0, 0, 0, 0],\n",
    "                                 [0, 1, 0, 0, 0, 0],\n",
    "                                 [0, 0, 1, 0, 0, 0]\n",
    "                                ],dtype=\"float64\")\n",
    "\n",
    "kf.measurementNoiseCov = np.array([[1, 0, 0],\n",
    "                                   [0, 1, 0],\n",
    "                                   [0, 0, 1,]\n",
    "                                ],dtype=\"float64\")*1E-6\n",
    "\n",
    "\n",
    "print \"Delta T:\", dt\n",
    "\n",
    "print \"Transition:\"\n",
    "print kf.transitionMatrix\n",
    "\n",
    "print \"Measurement:\"\n",
    "print kf.measurementMatrix\n",
    "\n",
    "print \"Control:\"\n",
    "print kf.controlMatrix\n",
    "\n",
    "print \"Process Noise Cov:\"\n",
    "print kf.processNoiseCov\n",
    "\n",
    "print \"Measurement Noise Cov:\"\n",
    "print kf.measurementNoiseCov\n",
    "\n",
    "print \"Error Cov Pre\"\n",
    "print kf.errorCovPre\n",
    "\n",
    "print \"Error Cov Post\"\n",
    "print kf.errorCovPost"
   ]
  },
  {
   "cell_type": "code",
   "execution_count": 14,
   "metadata": {
    "collapsed": false
   },
   "outputs": [],
   "source": [
    "observed = []\n",
    "estimated = []\n",
    "corrected = []\n",
    "\n",
    "\n",
    "for index, row in c.iterrows():        \n",
    "    if index==0 :\n",
    "        kf.statePost[0,0] = row.values[0]\n",
    "        kf.statePost[1,0] = row.values[1]\n",
    "        kf.statePost[2,0] = row.values[2]\n",
    "        kf.statePre[0,0] = row.values[0]\n",
    "        kf.statePre[1,0] = row.values[1]\n",
    "        kf.statePre[2,0] = row.values[2]\n",
    "        \n",
    "        kf.processNoiseCov = np.array([[(dt**4)/4, 0, 0, (dt**3)/2, 0, 0],\n",
    "                              [0, (dt**4)/4 , 0, 0, (dt**3)/2, 0],\n",
    "                              [0, 0, (dt**4)/4, 0, 0, (dt**3)/2],\n",
    "                              [(dt**3)/2, 0, 0, (dt**2), 0, 0],\n",
    "                              [0, (dt**3)/2, 0, 0, (dt**2), 0],\n",
    "                              [0, 0, (dt**3)/2, 0, 0, (dt**2)]\n",
    "                     ], dtype=\"float64\")*1E-100\n",
    "        \n",
    "    else:\n",
    "        kf.processNoiseCov = np.array([[(dt**4)/4, 0, 0, (dt**3)/2, 0, 0],\n",
    "                              [0, (dt**4)/4 , 0, 0, (dt**3)/2, 0],\n",
    "                              [0, 0, (dt**4)/4, 0, 0, (dt**3)/2],\n",
    "                              [(dt**3)/2, 0, 0, (dt**2), 0, 0],\n",
    "                              [0, (dt**3)/2, 0, 0, (dt**2), 0],\n",
    "                              [0, 0, (dt**3)/2, 0, 0, (dt**2)]\n",
    "                     ], dtype=\"float64\")*1E0\n",
    "\n",
    "        \n",
    "        \n",
    "\n",
    "        \n",
    "    measurement = row.values[0:3].reshape(3)  \n",
    "\n",
    "    predicted = kf.predict()[0:3].reshape(3)                                               \n",
    "    corrected.append(kf.correct(measurement)[0:3].reshape(3))\n",
    "\n",
    "    estimated.append(predicted)\n",
    "    observed.append(measurement)"
   ]
  },
  {
   "cell_type": "code",
   "execution_count": 15,
   "metadata": {
    "collapsed": true
   },
   "outputs": [],
   "source": [
    "estimated = pd.DataFrame(data=np.array(estimated), columns=['x','y','z'])\n",
    "observed = pd.DataFrame(data=np.array(observed), columns=['x','y','z'])\n",
    "corrected = pd.DataFrame(data=np.array(corrected), columns=['x','y','z'])"
   ]
  },
  {
   "cell_type": "code",
   "execution_count": 16,
   "metadata": {
    "collapsed": false
   },
   "outputs": [
    {
     "data": {
      "text/html": [
       "<div>\n",
       "<table border=\"1\" class=\"dataframe\">\n",
       "  <thead>\n",
       "    <tr style=\"text-align: right;\">\n",
       "      <th></th>\n",
       "      <th>x</th>\n",
       "      <th>y</th>\n",
       "      <th>z</th>\n",
       "    </tr>\n",
       "  </thead>\n",
       "  <tbody>\n",
       "    <tr>\n",
       "      <th>184</th>\n",
       "      <td>-176.828494</td>\n",
       "      <td>73.364459</td>\n",
       "      <td>48.544082</td>\n",
       "    </tr>\n",
       "    <tr>\n",
       "      <th>185</th>\n",
       "      <td>-176.776516</td>\n",
       "      <td>73.351837</td>\n",
       "      <td>48.512519</td>\n",
       "    </tr>\n",
       "    <tr>\n",
       "      <th>186</th>\n",
       "      <td>-176.851753</td>\n",
       "      <td>73.500613</td>\n",
       "      <td>48.383536</td>\n",
       "    </tr>\n",
       "    <tr>\n",
       "      <th>187</th>\n",
       "      <td>-176.936233</td>\n",
       "      <td>73.647457</td>\n",
       "      <td>48.296632</td>\n",
       "    </tr>\n",
       "    <tr>\n",
       "      <th>188</th>\n",
       "      <td>-176.998279</td>\n",
       "      <td>73.773032</td>\n",
       "      <td>48.246541</td>\n",
       "    </tr>\n",
       "  </tbody>\n",
       "</table>\n",
       "</div>"
      ],
      "text/plain": [
       "              x          y          z\n",
       "184 -176.828494  73.364459  48.544082\n",
       "185 -176.776516  73.351837  48.512519\n",
       "186 -176.851753  73.500613  48.383536\n",
       "187 -176.936233  73.647457  48.296632\n",
       "188 -176.998279  73.773032  48.246541"
      ]
     },
     "execution_count": 16,
     "metadata": {},
     "output_type": "execute_result"
    }
   ],
   "source": [
    "estimated.tail()"
   ]
  },
  {
   "cell_type": "code",
   "execution_count": 17,
   "metadata": {
    "collapsed": false
   },
   "outputs": [
    {
     "data": {
      "text/html": [
       "<div>\n",
       "<table border=\"1\" class=\"dataframe\">\n",
       "  <thead>\n",
       "    <tr style=\"text-align: right;\">\n",
       "      <th></th>\n",
       "      <th>x</th>\n",
       "      <th>y</th>\n",
       "      <th>z</th>\n",
       "    </tr>\n",
       "  </thead>\n",
       "  <tbody>\n",
       "    <tr>\n",
       "      <th>0</th>\n",
       "      <td>-183.106390</td>\n",
       "      <td>72.444831</td>\n",
       "      <td>48.112313</td>\n",
       "    </tr>\n",
       "    <tr>\n",
       "      <th>1</th>\n",
       "      <td>-188.056524</td>\n",
       "      <td>71.263422</td>\n",
       "      <td>47.989151</td>\n",
       "    </tr>\n",
       "    <tr>\n",
       "      <th>2</th>\n",
       "      <td>-191.928773</td>\n",
       "      <td>70.350977</td>\n",
       "      <td>47.904349</td>\n",
       "    </tr>\n",
       "    <tr>\n",
       "      <th>3</th>\n",
       "      <td>-194.864469</td>\n",
       "      <td>69.655140</td>\n",
       "      <td>47.842933</td>\n",
       "    </tr>\n",
       "    <tr>\n",
       "      <th>4</th>\n",
       "      <td>-197.014789</td>\n",
       "      <td>69.152969</td>\n",
       "      <td>47.799049</td>\n",
       "    </tr>\n",
       "  </tbody>\n",
       "</table>\n",
       "</div>"
      ],
      "text/plain": [
       "            x          y          z\n",
       "0 -183.106390  72.444831  48.112313\n",
       "1 -188.056524  71.263422  47.989151\n",
       "2 -191.928773  70.350977  47.904349\n",
       "3 -194.864469  69.655140  47.842933\n",
       "4 -197.014789  69.152969  47.799049"
      ]
     },
     "execution_count": 17,
     "metadata": {},
     "output_type": "execute_result"
    }
   ],
   "source": [
    "corrected.head()"
   ]
  },
  {
   "cell_type": "code",
   "execution_count": 18,
   "metadata": {
    "collapsed": false
   },
   "outputs": [
    {
     "data": {
      "text/html": [
       "<div>\n",
       "<table border=\"1\" class=\"dataframe\">\n",
       "  <thead>\n",
       "    <tr style=\"text-align: right;\">\n",
       "      <th></th>\n",
       "      <th>x</th>\n",
       "      <th>y</th>\n",
       "      <th>z</th>\n",
       "    </tr>\n",
       "  </thead>\n",
       "  <tbody>\n",
       "    <tr>\n",
       "      <th>184</th>\n",
       "      <td>-176.350673</td>\n",
       "      <td>73.979705</td>\n",
       "      <td>48.792118</td>\n",
       "    </tr>\n",
       "    <tr>\n",
       "      <th>185</th>\n",
       "      <td>-176.718903</td>\n",
       "      <td>74.309111</td>\n",
       "      <td>48.457205</td>\n",
       "    </tr>\n",
       "    <tr>\n",
       "      <th>186</th>\n",
       "      <td>-176.828254</td>\n",
       "      <td>74.302879</td>\n",
       "      <td>48.451141</td>\n",
       "    </tr>\n",
       "    <tr>\n",
       "      <th>187</th>\n",
       "      <td>-176.855490</td>\n",
       "      <td>74.266454</td>\n",
       "      <td>48.453628</td>\n",
       "    </tr>\n",
       "    <tr>\n",
       "      <th>188</th>\n",
       "      <td>-176.910495</td>\n",
       "      <td>74.254183</td>\n",
       "      <td>48.343324</td>\n",
       "    </tr>\n",
       "  </tbody>\n",
       "</table>\n",
       "</div>"
      ],
      "text/plain": [
       "              x          y          z\n",
       "184 -176.350673  73.979705  48.792118\n",
       "185 -176.718903  74.309111  48.457205\n",
       "186 -176.828254  74.302879  48.451141\n",
       "187 -176.855490  74.266454  48.453628\n",
       "188 -176.910495  74.254183  48.343324"
      ]
     },
     "execution_count": 18,
     "metadata": {},
     "output_type": "execute_result"
    }
   ],
   "source": [
    "observed.tail()"
   ]
  },
  {
   "cell_type": "code",
   "execution_count": 19,
   "metadata": {
    "collapsed": false
   },
   "outputs": [
    {
     "data": {
      "image/png": "[encoded data removed]",
      "text/plain": [
       "<matplotlib.figure.Figure at 0x10ffe8450>"
      ]
     },
     "metadata": {},
     "output_type": "display_data"
    }
   ],
   "source": [
    "import matplotlib.pyplot as plt\n",
    "fig = plt.figure(figsize=(15,4))\n",
    "\n",
    "plt.plot(observed['x'].values,\"r-\", label=\"x observed\")\n",
    "plt.plot(estimated['x'].values,\"r--\", label=\"x estimated\")\n",
    "plt.plot(corrected['x'].values,\"r-.\", label=\"x corrected\")\n",
    "\n",
    "plt.plot(observed['y'].values,\"b-\",label=\"y observed\")\n",
    "plt.plot(estimated['y'].values,\"b--\",label=\"y estimated\")\n",
    "plt.plot(corrected['y'].values,\"b-.\", label=\"y corrected\")\n",
    "\n",
    "\n",
    "plt.plot(observed['z'].values,\"g-\",label=\"z observed\")\n",
    "plt.plot(estimated['z'].values,\"g--\",label=\"z estimated\")\n",
    "plt.plot(corrected['z'].values,\"g-.\", label=\"z corrected\")\n",
    "\n",
    "plt.xlim(xmax=len(estimated)+40)\n",
    "plt.legend()\n",
    "plt.show()"
   ]
  },
  {
   "cell_type": "code",
   "execution_count": 20,
   "metadata": {
    "collapsed": false
   },
   "outputs": [
    {
     "data": {
      "image/png": "[encoded data removed]",
      "text/plain": [
       "<matplotlib.figure.Figure at 0x10cfcf650>"
      ]
     },
     "metadata": {},
     "output_type": "display_data"
    }
   ],
   "source": [
    "fig = plt.figure(figsize=(15,4))\n",
    "plt.plot(estimated['x'].values-observed['x'].values,\"r-\", label=\"x error\")\n",
    "plt.plot(estimated['y'].values-observed['y'].values,\"b-\", label=\"y error\")\n",
    "plt.plot(estimated['z'].values-observed['z'].values,\"g-\", label=\"z error\")\n",
    "plt.xlim(xmax=130)\n",
    "plt.legend()\n",
    "plt.grid()\n",
    "plt.title(\"Erro\")\n",
    "plt.show()"
   ]
  },
  {
   "cell_type": "code",
   "execution_count": null,
   "metadata": {
    "collapsed": true
   },
   "outputs": [],
   "source": []
  }
 ],
 "metadata": {
  "kernelspec": {
   "display_name": "Python 2",
   "language": "python",
   "name": "python2"
  },
  "language_info": {
   "codemirror_mode": {
    "name": "ipython",
    "version": 2
   },
   "file_extension": ".py",
   "mimetype": "text/x-python",
   "name": "python",
   "nbconvert_exporter": "python",
   "pygments_lexer": "ipython2",
   "version": "2.7.6"
  }
 },
 "nbformat": 4,
 "nbformat_minor": 0
}
