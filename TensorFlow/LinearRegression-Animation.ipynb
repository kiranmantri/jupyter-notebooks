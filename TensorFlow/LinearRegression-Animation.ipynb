{
 "cells": [
  {
   "cell_type": "code",
   "execution_count": 1,
   "metadata": {
    "collapsed": false
   },
   "outputs": [],
   "source": [
    "import numpy as np\n",
    "import tensorflow as tf"
   ]
  },
  {
   "cell_type": "code",
   "execution_count": 2,
   "metadata": {
    "collapsed": false
   },
   "outputs": [],
   "source": [
    "a, b = 1, 0\n",
    "low=-1; high=1 ; n = 50\n",
    "\n",
    "trueX = np.random.uniform(low=low, high=high, size=n)\n",
    "trueY = (a*trueX + b) + np.random.normal(loc=0, scale=.2*max(trueX), size=[len(trueX)])  #stddev = 10%"
   ]
  },
  {
   "cell_type": "code",
   "execution_count": 3,
   "metadata": {
    "collapsed": false
   },
   "outputs": [
    {
     "data": {
      "image/png": "[encoded data removed]",
      "text/plain": [
       "<matplotlib.figure.Figure at 0x7f86383ee7d0>"
      ]
     },
     "metadata": {},
     "output_type": "display_data"
    },
    {
     "name": "stdout",
     "output_type": "stream",
     "text": [
      "[ 0.06364806 -0.34608459  0.4067936   0.91837418 -0.30353223]\n",
      "[ 0.08667128 -0.16007465  0.44734322  0.97375258 -0.35978937]\n"
     ]
    }
   ],
   "source": [
    "import matplotlib.pyplot as plt\n",
    "plt.scatter(trueX, trueY)\n",
    "plt.show()\n",
    "plt.close()\n",
    "\n",
    "print trueX[0:5]\n",
    "print trueY[0:5]"
   ]
  },
  {
   "cell_type": "code",
   "execution_count": 4,
   "metadata": {
    "collapsed": false
   },
   "outputs": [],
   "source": [
    "a_guess = 0. ; b_guess = 0.\n",
    "\n",
    "a = tf.Variable(a_guess)\n",
    "b = tf.Variable(b_guess)\n",
    "y = a*trueX + b"
   ]
  },
  {
   "cell_type": "code",
   "execution_count": 5,
   "metadata": {
    "collapsed": false
   },
   "outputs": [],
   "source": [
    "loss = tf.reduce_mean(tf.square(y - trueY))   \n",
    "optimizer = tf.train.GradientDescentOptimizer(0.5)\n",
    "train = optimizer.minimize(loss)"
   ]
  },
  {
   "cell_type": "code",
   "execution_count": 6,
   "metadata": {
    "collapsed": false
   },
   "outputs": [],
   "source": [
    "init = tf.initialize_all_variables()\n",
    "session = tf.Session()\n",
    "session.run(init)"
   ]
  },
  {
   "cell_type": "code",
   "execution_count": 7,
   "metadata": {
    "collapsed": false
   },
   "outputs": [
    {
     "name": "stdout",
     "output_type": "stream",
     "text": [
      "Finished by Convergence Criterion\n"
     ]
    }
   ],
   "source": [
    "convergenceTolerance = 0.01\n",
    "previous_a = np.inf\n",
    "previous_b = np.inf\n",
    "\n",
    "steps = {}\n",
    "steps['a'] = []\n",
    "steps['b'] = []\n",
    "\n",
    "for k in range(100000):\n",
    "    _, _a , _b = session.run([train, a, b]) \n",
    "    steps['a'].append(_a)\n",
    "    steps['b'].append(_b)\n",
    "    if (np.abs(previous_a - _a) or np.abs(previous_b - _b) ) <= convergenceTolerance :\n",
    "        print \"Finished by Convergence Criterion\"\n",
    "        break\n",
    "    previous_a = _a, \n",
    "    previous_b = _b, \n",
    "    \n",
    "session.close()    "
   ]
  },
  {
   "cell_type": "code",
   "execution_count": 36,
   "metadata": {
    "collapsed": false
   },
   "outputs": [
    {
     "data": {
      "text/html": [
       "<img src=LinearRegression-Animation.gif>"
      ],
      "text/plain": [
       "<IPython.core.display.HTML object>"
      ]
     },
     "execution_count": 36,
     "metadata": {},
     "output_type": "execute_result"
    }
   ],
   "source": [
    "%matplotlib inline\n",
    "from matplotlib import pyplot as plt\n",
    "import matplotlib.animation as animation\n",
    "from IPython.display import HTML\n",
    "\n",
    "fig, ax = plt.subplots()\n",
    "fig.set_tight_layout(True)\n",
    "#ax.set_xlim((low, high))\n",
    "#ax.set_ylim((min(trueY), max(trueY)))\n",
    "\n",
    "x = np.linspace(low, high,n)\n",
    "\n",
    "def init():\n",
    "    line = plt.scatter(trueX, trueY)\n",
    "    return line\n",
    "    \n",
    "def animate(i):\n",
    "    line = plt.plot(x, steps['a'][i]*x + steps['b'][i])\n",
    "    return line\n",
    "\n",
    "#anim = animation.FuncAnimation(fig=fig, func=animate, init_func=init, frames=len(steps['a']), repeat=False, interval=500, blit=False)\n",
    "anim = animation.FuncAnimation(fig=fig, func=animate, init_func=init, frames=len(steps['a']))\n",
    "#lines_ani.save('T.gif', writer='imagemagick')\n",
    "lines_ani.save('LinearRegression-Animation.gif', dpi=100, writer='imagemagick')\n",
    "plt.close()\n",
    "HTML(\"<img src=LinearRegression-Animation.gif>\")\n"
   ]
  },
  {
   "cell_type": "code",
   "execution_count": 41,
   "metadata": {
    "collapsed": false,
    "scrolled": true
   },
   "outputs": [
    {
     "name": "stdout",
     "output_type": "stream",
     "text": [
      "12 [0.27441105, 0.47401023, 0.61911345, 0.72459966, 0.80128533, 0.85703373, 0.89756137, 0.92702389, 0.94844234, 0.96401298, 0.97533244, 0.9835614]\n",
      "12 [0.013186757, 0.016924357, 0.019642984, 0.021619346, 0.023056123, 0.024100602, 0.024859922, 0.02541193, 0.025813228, 0.026104953, 0.026317036, 0.026471199]\n",
      "\n",
      "[MoviePy] Building file LinearRegression-Animation.gif with imageio\n"
     ]
    },
    {
     "name": "stderr",
     "output_type": "stream",
     "text": [
      " 90%|█████████ | 9/10 [00:00<00:00, 32.73it/s]\n"
     ]
    }
   ],
   "source": [
    "%matplotlib inline\n",
    "import matplotlib.pyplot as plt\n",
    "import numpy as np\n",
    "from moviepy.video.io.bindings import mplfig_to_npimage\n",
    "import moviepy.editor as mpy\n",
    "from IPython.display import HTML\n",
    "\n",
    "fig, ax = plt.subplots(1, facecolor='white')\n",
    "x = np.linspace(low, high, n)\n",
    "ax.set_xlim((low, high))\n",
    "ax.set_ylim((min(trueY), max(trueY)))\n",
    "plt.scatter(trueX, trueY)\n",
    "\n",
    "\n",
    "print len(steps['a']), steps['a']\n",
    "print len(steps['b']), steps['b']\n",
    "def makeFrame(timeStep=1):\n",
    "    i = int(timeStep)\n",
    "    plt.plot(x, steps['a'][i]*x + steps['b'][i])  # <= Update the curve\n",
    "    return mplfig_to_npimage(fig) \n",
    "\n",
    "animation = mpy.VideoClip(makeFrame, duration=len(steps['a']))\n",
    "animation.write_gif(\"LinearRegression-Animation.gif\", fps=.75)\n",
    "plt.close()\n"
   ]
  },
  {
   "cell_type": "code",
   "execution_count": 42,
   "metadata": {
    "collapsed": false
   },
   "outputs": [
    {
     "data": {
      "text/html": [
       "<img src=LinearRegression-Animation.gif>"
      ],
      "text/plain": [
       "<IPython.core.display.HTML object>"
      ]
     },
     "execution_count": 42,
     "metadata": {},
     "output_type": "execute_result"
    }
   ],
   "source": [
    "HTML(\"<img src=LinearRegression-Animation.gif>\")"
   ]
  },
  {
   "cell_type": "code",
   "execution_count": null,
   "metadata": {
    "collapsed": true
   },
   "outputs": [],
   "source": []
  }
 ],
 "metadata": {
  "kernelspec": {
   "display_name": "Python 2",
   "language": "python",
   "name": "python2"
  },
  "language_info": {
   "codemirror_mode": {
    "name": "ipython",
    "version": 2
   },
   "file_extension": ".py",
   "mimetype": "text/x-python",
   "name": "python",
   "nbconvert_exporter": "python",
   "pygments_lexer": "ipython2",
   "version": "2.7.6"
  }
 },
 "nbformat": 4,
 "nbformat_minor": 1
}
