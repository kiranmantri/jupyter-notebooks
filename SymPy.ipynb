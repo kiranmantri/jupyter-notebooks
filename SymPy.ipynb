{
 "cells": [
  {
   "cell_type": "code",
   "execution_count": 2,
   "metadata": {
    "ExecuteTime": {
     "end_time": "2017-10-04T17:15:20.197710Z",
     "start_time": "2017-10-04T17:15:19.327497Z"
    }
   },
   "outputs": [],
   "source": [
    "import numpy as np\n",
    "import sympy as sym\n",
    "sym.init_printing()\n"
   ]
  },
  {
   "cell_type": "code",
   "execution_count": 89,
   "metadata": {
    "ExecuteTime": {
     "end_time": "2017-09-29T00:29:06.340056Z",
     "start_time": "2017-09-29T00:29:06.138079Z"
    }
   },
   "outputs": [
    {
     "data": {
      "image/png": "[encoded data removed]",
      "text/latex": [
       "$$\\left [ 1, \\quad x, \\quad x^{2}, \\quad x^{3}, \\quad x^{4}, \\quad x^{5}\\right ]$$"
      ],
      "text/plain": [
       "⎡       2   3   4   5⎤\n",
       "⎣1, x, x , x , x , x ⎦"
      ]
     },
     "metadata": {},
     "output_type": "display_data"
    },
    {
     "data": {
      "image/png": "[encoded data removed]",
      "text/latex": [
       "$$\\left ( a_{0}, \\quad a_{1}, \\quad a_{2}, \\quad a_{3}, \\quad a_{4}, \\quad a_{5}\\right )$$"
      ],
      "text/plain": [
       "(a₀, a₁, a₂, a₃, a₄, a₅)"
      ]
     },
     "metadata": {},
     "output_type": "display_data"
    }
   ],
   "source": [
    "deg = 5\n",
    "n = deg+1\n",
    "x = sym.symbols('x')\n",
    "X = [x**p for p in range(n)]\n",
    "a = sym.symbols(\" \".join([\"a{0}\".format(i) for i in range(n)]))\n",
    "display(X)\n",
    "display(a)"
   ]
  },
  {
   "cell_type": "code",
   "execution_count": 94,
   "metadata": {
    "ExecuteTime": {
     "end_time": "2017-09-29T00:30:36.608937Z",
     "start_time": "2017-09-29T00:30:36.604954Z"
    }
   },
   "outputs": [],
   "source": [
    "fX = 0\n",
    "for item in zip(a,X):\n",
    "    fX += item[0]*item[1]\n",
    "dfX = sym.diff(fX,x)"
   ]
  },
  {
   "cell_type": "code",
   "execution_count": 95,
   "metadata": {
    "ExecuteTime": {
     "end_time": "2017-09-29T00:31:37.150407Z",
     "start_time": "2017-09-29T00:31:36.949114Z"
    }
   },
   "outputs": [
    {
     "data": {
      "image/png": "[encoded data removed]",
      "text/latex": [
       "$$a_{0} + a_{1} x + a_{2} x^{2} + a_{3} x^{3} + a_{4} x^{4} + a_{5} x^{5}$$"
      ],
      "text/plain": [
       "                2       3       4       5\n",
       "a₀ + a₁⋅x + a₂⋅x  + a₃⋅x  + a₄⋅x  + a₅⋅x "
      ]
     },
     "metadata": {},
     "output_type": "display_data"
    },
    {
     "data": {
      "image/png": "[encoded data removed]",
      "text/latex": [
       "$$a_{1} + 2 a_{2} x + 3 a_{3} x^{2} + 4 a_{4} x^{3} + 5 a_{5} x^{4}$$"
      ],
      "text/plain": [
       "                    2         3         4\n",
       "a₁ + 2⋅a₂⋅x + 3⋅a₃⋅x  + 4⋅a₄⋅x  + 5⋅a₅⋅x "
      ]
     },
     "metadata": {},
     "output_type": "display_data"
    }
   ],
   "source": [
    "display(fX)\n",
    "display(dfX)"
   ]
  },
  {
   "cell_type": "code",
   "execution_count": 18,
   "metadata": {
    "ExecuteTime": {
     "end_time": "2017-10-04T17:22:50.168930Z",
     "start_time": "2017-10-04T17:22:50.065157Z"
    }
   },
   "outputs": [
    {
     "data": {
      "image/png": "[encoded data removed]",
      "text/latex": [
       "$$\\log{\\left (\\frac{0.5 \\sqrt{2}}{\\sqrt{\\pi} \\sqrt{\\sigma}} \\right )}$$"
      ],
      "text/plain": [
       "   ⎛0.5⋅√2⎞\n",
       "log⎜──────⎟\n",
       "   ⎝√π⋅√σ ⎠"
      ]
     },
     "execution_count": 18,
     "metadata": {},
     "output_type": "execute_result"
    }
   ],
   "source": [
    "a, sigma = sym.symbols (\"a sigma\")\n",
    "L = sym.log(1./sym.sqrt(2*sym.pi*sigma))\n",
    "L"
   ]
  },
  {
   "cell_type": "markdown",
   "metadata": {},
   "source": [
    "$\\log( \\dfrac{1}{\\pi} ) $"
   ]
  },
  {
   "cell_type": "code",
   "execution_count": null,
   "metadata": {},
   "outputs": [],
   "source": []
  }
 ],
 "metadata": {
  "hide_input": false,
  "kernelspec": {
   "display_name": "Python 3",
   "language": "python",
   "name": "python3"
  },
  "language_info": {
   "codemirror_mode": {
    "name": "ipython",
    "version": 3
   },
   "file_extension": ".py",
   "mimetype": "text/x-python",
   "name": "python",
   "nbconvert_exporter": "python",
   "pygments_lexer": "ipython3",
   "version": "3.6.2"
  },
  "toc": {
   "colors": {
    "hover_highlight": "#DAA520",
    "running_highlight": "#FF0000",
    "selected_highlight": "#FFD700"
   },
   "moveMenuLeft": true,
   "nav_menu": {
    "height": "12px",
    "width": "252px"
   },
   "navigate_menu": true,
   "number_sections": true,
   "sideBar": true,
   "threshold": 4,
   "toc_cell": false,
   "toc_section_display": "block",
   "toc_window_display": true
  }
 },
 "nbformat": 4,
 "nbformat_minor": 2
}
